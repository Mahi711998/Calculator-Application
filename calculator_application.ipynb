{
  "nbformat": 4,
  "nbformat_minor": 0,
  "metadata": {
    "colab": {
      "provenance": [],
      "include_colab_link": true
    },
    "kernelspec": {
      "name": "python3",
      "display_name": "Python 3"
    },
    "language_info": {
      "name": "python"
    }
  },
  "cells": [
    {
      "cell_type": "markdown",
      "metadata": {
        "id": "view-in-github",
        "colab_type": "text"
      },
      "source": [
        "<a href=\"https://colab.research.google.com/github/Mahi711998/Calculator-Application/blob/main/calculator_application.ipynb\" target=\"_parent\"><img src=\"https://colab.research.google.com/assets/colab-badge.svg\" alt=\"Open In Colab\"/></a>"
      ]
    },
    {
      "cell_type": "markdown",
      "source": [
        "**Calculator building**\n",
        "\n",
        "Take inputs from user as  2 numbers and operator\n",
        "\n",
        "Rule1 : Operator should be  +,-,* ,/,**\n",
        "\n",
        "if any other operator say invalid operator till user enters correct operator\n",
        "\n",
        "Rule2: after the first operation ask user if they want to continue ,\n",
        "if yes again continue the same process else stop the application"
      ],
      "metadata": {
        "id": "t7idHD7F4L1d"
      }
    },
    {
      "cell_type": "code",
      "source": [
        "while 10==10:\n",
        "    n1=int(input(\"enter n1 number:\"))\n",
        "    n2=int(input(\"enter n2 number:\"))\n",
        "    operator=input(\"enter operators in symbol:\")\n",
        "    while operator not in (\"+\",\"-\",\"/\",\"*\",\"**\"):\n",
        "        print(\"you entered invalid symbol again can try\")\n",
        "        operator=input(\"enter (+,-,*,/,**) symbols:\")\n",
        "    print(\"you entered\",operator,\"operator\")\n",
        "    if operator==\"+\":\n",
        "        print(2+(n1+n2))\n",
        "    elif operator==\"-\":\n",
        "        print(3-(n1-n2))\n",
        "    elif operator==\"*\":\n",
        "        print(6*(n1*n2))\n",
        "    elif (operator==\"/\" and n1==0 or n2==0) or (operator==\"/\" and n1==0 and n2==0) :\n",
        "        print(\"it is not possible\")\n",
        "    elif operator==\"**\":\n",
        "        print(3**(n1**n2))\n",
        "    elif operator==\"/\" :\n",
        "        print(5/(n1/n2))\n",
        "    else:\n",
        "        print(\"invalid number\")\n",
        "    a=input(\"if you want again this process you can enter (yes/no):\")\n",
        "    if  a==\"yes\" or a==\"YES\" or a==\"Yes\" or a==\"yEs\" or a==\"yES\" or a==\"yeS\":\n",
        "        continue\n",
        "    else:\n",
        "        print(\"Thank you for using this page\")\n",
        "        break\n"
      ],
      "metadata": {
        "colab": {
          "base_uri": "https://localhost:8080/"
        },
        "id": "w6WfKd97-z9k",
        "outputId": "2c2bc618-1604-46e3-da91-b9a030604603"
      },
      "execution_count": null,
      "outputs": [
        {
          "output_type": "stream",
          "name": "stdout",
          "text": [
            "enter n1 number:2\n",
            "enter n2 number:0\n",
            "enter operators in symbol:(\n",
            "you entered invalid symbol again can try\n",
            "enter (+,-,*,/,**) symbols:/\n",
            "you entered / operator\n",
            "it is not possible\n",
            "if you want again this process you can enter (yes/no):yes\n",
            "enter n1 number:0\n",
            "enter n2 number:1\n",
            "enter operators in symbol:/\n",
            "you entered / operator\n",
            "it is not possible\n",
            "if you want again this process you can enter (yes/no):yes\n",
            "enter n1 number:0\n",
            "enter n2 number:0\n",
            "enter operators in symbol:/\n",
            "you entered / operator\n",
            "it is not possible\n",
            "if you want again this process you can enter (yes/no):yes\n",
            "enter n1 number:3\n",
            "enter n2 number:4\n",
            "enter operators in symbol:*\n",
            "you entered * operator\n",
            "72\n",
            "if you want again this process you can enter (yes/no):yes\n",
            "enter n1 number:6\n",
            "enter n2 number:0\n",
            "enter operators in symbol:-\n",
            "you entered - operator\n",
            "-3\n",
            "if you want again this process you can enter (yes/no):yes\n",
            "enter n1 number:0\n",
            "enter n2 number:5\n",
            "enter operators in symbol:**\n",
            "you entered ** operator\n",
            "1\n",
            "if you want again this process you can enter (yes/no):yes\n",
            "enter n1 number:89\n",
            "enter n2 number:23\n",
            "enter operators in symbol:\"\n",
            "you entered invalid symbol again can try\n",
            "enter (+,-,*,/,**) symbols:+\n",
            "you entered + operator\n",
            "114\n",
            "if you want again this process you can enter (yes/no):no\n",
            "Thank you for using this page\n"
          ]
        }
      ]
    }
  ]
}