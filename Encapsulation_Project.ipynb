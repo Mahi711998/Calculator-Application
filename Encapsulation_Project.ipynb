{
  "nbformat": 4,
  "nbformat_minor": 0,
  "metadata": {
    "colab": {
      "provenance": [],
      "include_colab_link": true
    },
    "kernelspec": {
      "name": "python3",
      "display_name": "Python 3"
    }
  },
  "cells": [
    {
      "cell_type": "markdown",
      "metadata": {
        "id": "view-in-github",
        "colab_type": "text"
      },
      "source": [
        "<a href=\"https://colab.research.google.com/github/Mahi711998/Calculator-Application/blob/main/Encapsulation_Project.ipynb\" target=\"_parent\"><img src=\"https://colab.research.google.com/assets/colab-badge.svg\" alt=\"Open In Colab\"/></a>"
      ]
    },
    {
      "cell_type": "markdown",
      "metadata": {
        "id": "dSRd3do_m_M4"
      },
      "source": [
        "---"
      ]
    },
    {
      "cell_type": "markdown",
      "metadata": {
        "id": "2i36Yv3-MPY5"
      },
      "source": [
        "### Problem Statement\n",
        "\n",
        "\n",
        "In this project, create a small Hospital Management application using the concept of **Object Oriented Programming**.\n",
        "\n",
        "Ask the user to enter a number from 1, 2, 3, 4, or 9. These numbers indicate the following options:\n",
        "\n",
        "  - **1: Display List of all Doctors** $\\Longrightarrow$ Displays a list of all the doctors in the hospital and their specialty.\n",
        "\n",
        "  - **2: Display List of all Patients** $\\Longrightarrow$ Displays a list of all the patients in the hospital and the disease from which they are suffering.\n",
        "\n",
        "  - **3: Add a Doctor** $\\Longrightarrow$ Adds a new doctor.\n",
        "\n",
        "  - **4: Add a Patient** $\\Longrightarrow$ Adds a new patient.\n",
        "    \n",
        "  - **9: Quit** $\\Longrightarrow$ Quits the application.\n",
        "\n",
        "\n",
        "  "
      ]
    },
    {
      "cell_type": "markdown",
      "metadata": {
        "id": "YUVCq0gkq1BZ"
      },
      "source": [
        "---"
      ]
    },
    {
      "cell_type": "markdown",
      "metadata": {
        "id": "seBJxEBPq3PV"
      },
      "source": [
        "---"
      ]
    },
    {
      "cell_type": "markdown",
      "metadata": {
        "id": "j5RcICzZlJeZ"
      },
      "source": [
        "#### Activity 1: Create a class `Doctor`\n",
        "\n",
        "1. Create a class `Doctor`. Inside this class, create a dictionary to store the name of doctors (as key) and their specialisations (as its value).\n",
        "\n",
        "2. The constructor of the class `Doctor` must initialise the following **private** variables:\n",
        "\n",
        "  - `emp_id`: Employee id of the doctor.\n",
        "\n",
        "  - `name`: Name of the doctor.\n",
        "\n",
        "  - `salary`: Salary of the doctor.\n",
        "\n",
        "  - `specialisation`: Specialisation of the doctor.\n",
        "\n",
        "2. The constructor should also call a **class method** `add_doctor()` which will add the newly created object of `Doctor` class to the dictionary.\n",
        "   \n",
        "3. Add getter functions for each of the private variables and 1 setter function to update the salary.\n",
        "\n",
        "4. Add one more class method to simply display the list of doctors and their specialisations by displaying the contents of the dictionary.\n",
        "\n"
      ]
    },
    {
      "cell_type": "code",
      "metadata": {
        "id": "g0LB4jijVd3l",
        "colab": {
          "base_uri": "https://localhost:8080/"
        },
        "outputId": "fd7c6dd2-3ac0-4af6-b663-311f220cd01c"
      },
      "source": [
        "#  Create class 'Doctor'. Add constructor, getter functions and class methods\n",
        "class Doctor:\n",
        "  doct_dict={}\n",
        "  def __init__(self,empid,name,salary,specialisation):\n",
        "    self.__empid=empid\n",
        "    self.__name=name\n",
        "    self.__salary=salary\n",
        "    self.__specialisation=specialisation\n",
        "    self.add_doctor()\n",
        "  def add_doctor(self):\n",
        "    Doctor.doct_dict[self.__name]=self.__specialisation\n",
        "    #getter method\n",
        "  def get_empid(self):\n",
        "       return self.__empid\n",
        "  def get_name(self):\n",
        "       return self.__name\n",
        "  def get_salary(self):\n",
        "       return self.__salary\n",
        "  def get_specialisation(self):\n",
        "       return self.__specialisation\n",
        " #setter method\n",
        "  def set_salary(self,newsalary):\n",
        "       self.__salary=newsalary\n",
        "  @classmethod\n",
        "  def display(cls):\n",
        "     for i,j in Doctor.doct_dict.items():\n",
        "       print(f\"{i}:{j}\")\n",
        "d=Doctor(1,\"maha\",1234,\"dental\")\n",
        "Doctor.display()\n",
        "\n"
      ],
      "execution_count": null,
      "outputs": [
        {
          "output_type": "stream",
          "name": "stdout",
          "text": [
            "maha:dental\n"
          ]
        }
      ]
    },
    {
      "cell_type": "code",
      "source": [
        "\n"
      ],
      "metadata": {
        "id": "1MSkNuhom5Yw"
      },
      "execution_count": null,
      "outputs": []
    },
    {
      "cell_type": "code",
      "source": [
        "d2=Doctor(2334,\"mahi\",34000,\"psycolgist\")\n",
        "Doctor.display()"
      ],
      "metadata": {
        "colab": {
          "base_uri": "https://localhost:8080/"
        },
        "id": "qmMP7tZAtDBl",
        "outputId": "60662f9e-ad69-4401-bb1d-8b07375564d8"
      },
      "execution_count": null,
      "outputs": [
        {
          "output_type": "stream",
          "name": "stdout",
          "text": [
            "maha:dental\n",
            "mahi:psycolgist\n"
          ]
        }
      ]
    },
    {
      "cell_type": "markdown",
      "metadata": {
        "id": "ZdXklYTDrKFS"
      },
      "source": [
        "---"
      ]
    },
    {
      "cell_type": "markdown",
      "metadata": {
        "id": "WCmI9RJ5nhkA"
      },
      "source": [
        "####Activity 2: Create a class `Patient`\n",
        "\n",
        "1. Create a class `Patient`.  Inside this class, create a dictionary to store the name of patients (as key) and their disease (as its value).\n",
        "\n",
        "2. The constructor of the class `Patient` must initialise the following **private** variables:\n",
        "\n",
        "  - `name`: Name of the patient.\n",
        "\n",
        "  - `age`: Age of the patient.\n",
        "\n",
        "  - `disease`: Disease of the patient.\n",
        "\n",
        "3. The constructor should also call a **class method** `add_patient()` which will add the newly created object of `Patient` class to the dictionary.\n",
        "   \n",
        "3. Add getter functions for each of the private variables.\n",
        "\n",
        "4. Add one more class method to simply display the list of patients and their disease by displaying the contents of the dictionary."
      ]
    },
    {
      "cell_type": "code",
      "metadata": {
        "id": "uV_EvB_kYm3Y",
        "colab": {
          "base_uri": "https://localhost:8080/"
        },
        "outputId": "3dc307bc-1614-4f5f-9909-10f4fcf463d9"
      },
      "source": [
        "class Patient:\n",
        "  pat_pati={}\n",
        "  def __init__(self, name, age, disease):\n",
        "\n",
        "        self.__name = name              # Protected attribute\n",
        "        self.__age = age                # Protected attribute\n",
        "        self.__disease =disease         # Protected attribute\n",
        "        self.add_patient()\n",
        "     # Protected attribute\n",
        "  def add_patient(self):\n",
        "     Patient.pat_pati[self.__name]=self.__disease\n",
        "  #getter methods\n",
        "  def get_name(self):\n",
        "    return self.__name\n",
        "  def get_age(self):\n",
        "    return self.__get\n",
        "  def get_disease(self):\n",
        "    return self.__disease\n",
        "  @classmethod\n",
        "  def display(hey):\n",
        "    for i,j in Patient.pat_pati.items():\n",
        "      print(f\"{i}:{j}\")\n",
        "\n",
        "\n",
        "p1=Patient(\"chinnu\",2,\"cough\")\n",
        "p2=Patient(\"bujji\",1.5,\"cold\")\n",
        "Patient.display()"
      ],
      "execution_count": null,
      "outputs": [
        {
          "output_type": "stream",
          "name": "stdout",
          "text": [
            "chinnu:cough\n",
            "bujji:cold\n"
          ]
        }
      ]
    },
    {
      "cell_type": "markdown",
      "metadata": {
        "id": "knB5aLw3rMQ6"
      },
      "source": [
        "---"
      ]
    },
    {
      "cell_type": "markdown",
      "metadata": {
        "id": "rl-1j6RYQsYb"
      },
      "source": [
        "#### Activity 3: Create Objects and Call the Functions\n",
        "\n",
        "Initialise a variable `empid` with any value of your choice. Create an infinite `while` loop. Inside this `while` loop perform the following tasks:\n",
        "1. Display the following list of choices:\n",
        "\n",
        "```\n",
        "Enter :\n",
        "        1 to Display all the Doctors and their Specialisations\n",
        "        2 to Display the list of patients and their disease\n",
        "        3 to Add a Doctor\n",
        "        4 to Add a Patient\n",
        "        9 to QUIT the application\n",
        "```\n",
        "\n",
        "2. Take user input and store it in a variable `user_choice`. Check whether the user entered any input other than 1, 2, 3, 4 or 9. If yes, then display a message \"Please enter a valid option\" and keep on asking for user input unless the user enters a valid choice.\n",
        "\n",
        "3. Now using the `if-elif-else` statement, check user input and perform the following tasks:\n",
        "\n",
        "  - If `user_choice==1`, call the class method of `Doctor` class which displays the list of doctors along with their specialisation.\n",
        "\n",
        "  - If `user_choice==2`, call the class method of `Patient` class which displays the list of patients along with their disease.\n",
        "\n",
        "  - If `user_choice==3`, ask the user to enter the name, salary, specialisation of the doctor and create an object of `Doctor` class by passing the entered details. Also increment the value of the `empid` variable and pass it while creating the object of `Doctor` class.\n",
        "      * Print the data of the newly created object using getter functions of `Doctor` class.\n",
        "      * Ask the user if it wishes to update the salary of the doctor. If yes, then call the setter function of the private variable `salary` to modify the salary of the doctor.\n",
        "\n",
        "  - If `user_choice==4`, ask the user to enter the name, age, disease of the patient and create an object of `Patient` class by passing the entered details. Print the data of the newly created object using getter functions of the `Patient` class.\n",
        "  - If `user_choice==9`, break the infinite while loop using the `break` statement.\n",
        "\n"
      ]
    },
    {
      "cell_type": "code",
      "metadata": {
        "id": "mpqUjEJ-c60B",
        "colab": {
          "base_uri": "https://localhost:8080/"
        },
        "outputId": "2a95b20b-d0a4-4c1b-f7de-7c484c0a8dff"
      },
      "source": [
        "#create infinite while loop\n",
        "empid=123\n",
        "while True:\n",
        "  user_input=int(input(\"\"\"Enter:\n",
        "  1 to display all the Doctors and their specilalisations\n",
        "  2 to display the list of patients and thier disease\n",
        "  3 to add a doctor\n",
        "  4 to add a patient\n",
        "  9 to quit the application\n",
        "     \"\"\"))\n",
        "  if user_input not in  [1,2,3,4,9]:\n",
        "    print(\"invalid\")\n",
        "    continue\n",
        "  if user_input==1:\n",
        "    Doctor.display()\n",
        "  elif user_input==2:\n",
        "    Patient.display()\n",
        "  elif user_input==3:\n",
        "    a=input(\"enter doctor name\")\n",
        "    b=input(\"enter emp_id\")\n",
        "    c=int(input(\"salary\"))\n",
        "    d=input(\"enter specilalisation\")\n",
        "    e=Doctor(b,a,c,d)\n",
        "    while True:\n",
        "      sal=input(\"wamt to change salary\").lower()\n",
        "      if sal==\"yes\":\n",
        "        amt=int(input(\"enter amount:\"))\n",
        "        e.set_salary(amt)\n",
        "        break\n",
        "      else:\n",
        "        break\n",
        "  elif user_input==4:\n",
        "    a=input(\"enter name\")\n",
        "    b=int(input(\"enter age\"))\n",
        "    c=input(\"enter disease\")\n",
        "    p=Patient(a,b,c)\n",
        "    Patient.dipaly()\n",
        "    Patient.display()\n",
        "    break\n",
        "  elif user_input==9:\n",
        "    print(\"thank you\")\n",
        "    break\n",
        "\n",
        "\n",
        "    Doctor.display()\n",
        "\n",
        "  elif user_input==4:\n",
        "    Doctor.diplay()\n",
        "\n",
        "\n"
      ],
      "execution_count": null,
      "outputs": [
        {
          "output_type": "stream",
          "name": "stdout",
          "text": [
            "Enter:\n",
            "  1 to display all the Doctors and their specilalisations\n",
            "  2 to display the list of patients and thier disease\n",
            "  3 to add a doctor \n",
            "  4 to add a patient\n",
            "  9 to quit the application\n",
            "     1\n",
            "maha:dental\n",
            "mahi:psycolgist\n",
            "Enter:\n",
            "  1 to display all the Doctors and their specilalisations\n",
            "  2 to display the list of patients and thier disease\n",
            "  3 to add a doctor \n",
            "  4 to add a patient\n",
            "  9 to quit the application\n",
            "     3\n",
            "enter doctor namemahi\n",
            "enter emp_id12\n",
            "salary2300\n",
            "enter specilalisationchild doctor\n",
            "wamt to change salaryyes\n",
            "enter amount:230\n",
            "Enter:\n",
            "  1 to display all the Doctors and their specilalisations\n",
            "  2 to display the list of patients and thier disease\n",
            "  3 to add a doctor \n",
            "  4 to add a patient\n",
            "  9 to quit the application\n",
            "     9\n",
            "thank you\n"
          ]
        }
      ]
    },
    {
      "cell_type": "markdown",
      "metadata": {
        "id": "gJ49xrTorOiU"
      },
      "source": [
        "---"
      ]
    },
    {
      "cell_type": "markdown",
      "metadata": {
        "id": "M2-hFdm58w7K"
      },
      "source": [
        "---"
      ]
    }
  ]
}